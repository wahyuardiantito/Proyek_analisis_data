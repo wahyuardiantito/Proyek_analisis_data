{
 "cells": [
  {
   "cell_type": "markdown",
   "metadata": {
    "id": "H9wADwK78DCz"
   },
   "source": [
    "# Proyek Analisis Data: Air Quality\n",
    "- **Nama:** Wahyu Ardiantito. S\n",
    "- **Email:** ardiantitowahyu@gmail.com\n",
    "- **ID Dicoding:** ardiantito"
   ]
  },
  {
   "cell_type": "markdown",
   "metadata": {
    "id": "mzYXC22S1zFP"
   },
   "source": [
    "## Menentukan pertanyaan bisnis"
   ]
  },
  {
   "cell_type": "markdown",
   "metadata": {
    "id": "GmQeQ5YF8DC0"
   },
   "source": [
    "- Pada jam berapa rata-rata nilai pm2.5 tertinggi\n",
    "- Stasiun mana yang memiliki rata-rata pm2.5 terendah\n",
    "- Stasiun manakah yang paling sering mengalami hujan"
   ]
  },
  {
   "cell_type": "markdown",
   "metadata": {
    "id": "H-z4QGlO8DC1"
   },
   "source": [
    "## Import Semua Packages/Library yang Digunakan"
   ]
  },
  {
   "cell_type": "code",
   "execution_count": 29,
   "metadata": {
    "id": "FVYwaObI8DC1"
   },
   "outputs": [],
   "source": [
    "import numpy as np #Digunakan untuk operasi matematis\n",
    "import pandas as pd #Digunakan untuk tabulasi dan manipulasi data\n",
    "import matplotlib.pyplot as plt #Digunakan untuk membuat plot (Visualisasi Data)\n",
    "import glob #Digunakan untuk membaca direktori"
   ]
  },
  {
   "cell_type": "markdown",
   "metadata": {
    "id": "h_Sh51Xy8DC1"
   },
   "source": [
    "## Data Wrangling"
   ]
  },
  {
   "cell_type": "markdown",
   "metadata": {
    "id": "sXU2GBYu8DC1"
   },
   "source": [
    "### Gathering Data"
   ]
  },
  {
   "cell_type": "code",
   "execution_count": 30,
   "metadata": {
    "id": "zjCBk1BI8DC1"
   },
   "outputs": [],
   "source": [
    "#Memaca keseluruhan file csv pada direktori dataset untuk kemudian disimpan di variabel 'data'\n",
    "file_pattern = 'PRSA_Data_*_20130301-20170228.csv'\n",
    "file_paths = glob.glob('dataset/' + file_pattern)\n",
    "\n",
    "stations = [path.split('_')[2].lower() for path in file_paths]\n",
    "\n",
    "data = {}\n",
    "for station, path in zip(stations, file_paths):\n",
    "    data[station] = pd.read_csv(path)"
   ]
  },
  {
   "cell_type": "code",
   "execution_count": 31,
   "metadata": {},
   "outputs": [],
   "source": [
    "#Membuat dataframe dari variabel \"data\"\n",
    "aotizhongxin_df = data['aotizhongxin']\n",
    "changping_df = data['changping']\n",
    "dingling_df = data['dingling']\n",
    "dongsi_df = data['dongsi']\n",
    "guanyuan_df = data['guanyuan']\n",
    "gucheng_df = data['gucheng']\n",
    "huairou_df = data['huairou'] \n",
    "nongzhanguan_df = data['nongzhanguan']\n",
    "shunyi_df = data['shunyi']\n",
    "tiantan_df = data['tiantan']\n",
    "wanliu_df = data['wanliu']\n",
    "wanshouxigong_df = data['wanshouxigong']"
   ]
  },
  {
   "cell_type": "code",
   "execution_count": 32,
   "metadata": {},
   "outputs": [],
   "source": [
    "# membuat df gabungan\n",
    "df = pd.concat([aotizhongxin_df,\n",
    "                    changping_df,\n",
    "                    dingling_df,\n",
    "                    dongsi_df,\n",
    "                    guanyuan_df,\n",
    "                    gucheng_df,\n",
    "                    huairou_df,\n",
    "                    nongzhanguan_df,\n",
    "                    shunyi_df, \n",
    "                    tiantan_df,\n",
    "                    wanliu_df,\n",
    "                    wanshouxigong_df], ignore_index=True)"
   ]
  },
  {
   "cell_type": "code",
   "execution_count": 33,
   "metadata": {},
   "outputs": [
    {
     "data": {
      "text/html": [
       "<div>\n",
       "<style scoped>\n",
       "    .dataframe tbody tr th:only-of-type {\n",
       "        vertical-align: middle;\n",
       "    }\n",
       "\n",
       "    .dataframe tbody tr th {\n",
       "        vertical-align: top;\n",
       "    }\n",
       "\n",
       "    .dataframe thead th {\n",
       "        text-align: right;\n",
       "    }\n",
       "</style>\n",
       "<table border=\"1\" class=\"dataframe\">\n",
       "  <thead>\n",
       "    <tr style=\"text-align: right;\">\n",
       "      <th></th>\n",
       "      <th>No</th>\n",
       "      <th>year</th>\n",
       "      <th>month</th>\n",
       "      <th>day</th>\n",
       "      <th>hour</th>\n",
       "      <th>PM2.5</th>\n",
       "      <th>PM10</th>\n",
       "      <th>SO2</th>\n",
       "      <th>NO2</th>\n",
       "      <th>CO</th>\n",
       "      <th>O3</th>\n",
       "      <th>TEMP</th>\n",
       "      <th>PRES</th>\n",
       "      <th>DEWP</th>\n",
       "      <th>RAIN</th>\n",
       "      <th>wd</th>\n",
       "      <th>WSPM</th>\n",
       "      <th>station</th>\n",
       "    </tr>\n",
       "  </thead>\n",
       "  <tbody>\n",
       "    <tr>\n",
       "      <th>420763</th>\n",
       "      <td>35060</td>\n",
       "      <td>2017</td>\n",
       "      <td>2</td>\n",
       "      <td>28</td>\n",
       "      <td>19</td>\n",
       "      <td>11.0</td>\n",
       "      <td>32.0</td>\n",
       "      <td>3.0</td>\n",
       "      <td>24.0</td>\n",
       "      <td>400.0</td>\n",
       "      <td>72.0</td>\n",
       "      <td>12.5</td>\n",
       "      <td>1013.5</td>\n",
       "      <td>-16.2</td>\n",
       "      <td>0.0</td>\n",
       "      <td>NW</td>\n",
       "      <td>2.4</td>\n",
       "      <td>Wanshouxigong</td>\n",
       "    </tr>\n",
       "    <tr>\n",
       "      <th>420764</th>\n",
       "      <td>35061</td>\n",
       "      <td>2017</td>\n",
       "      <td>2</td>\n",
       "      <td>28</td>\n",
       "      <td>20</td>\n",
       "      <td>13.0</td>\n",
       "      <td>32.0</td>\n",
       "      <td>3.0</td>\n",
       "      <td>41.0</td>\n",
       "      <td>500.0</td>\n",
       "      <td>50.0</td>\n",
       "      <td>11.6</td>\n",
       "      <td>1013.6</td>\n",
       "      <td>-15.1</td>\n",
       "      <td>0.0</td>\n",
       "      <td>WNW</td>\n",
       "      <td>0.9</td>\n",
       "      <td>Wanshouxigong</td>\n",
       "    </tr>\n",
       "    <tr>\n",
       "      <th>420765</th>\n",
       "      <td>35062</td>\n",
       "      <td>2017</td>\n",
       "      <td>2</td>\n",
       "      <td>28</td>\n",
       "      <td>21</td>\n",
       "      <td>14.0</td>\n",
       "      <td>28.0</td>\n",
       "      <td>4.0</td>\n",
       "      <td>38.0</td>\n",
       "      <td>500.0</td>\n",
       "      <td>54.0</td>\n",
       "      <td>10.8</td>\n",
       "      <td>1014.2</td>\n",
       "      <td>-13.3</td>\n",
       "      <td>0.0</td>\n",
       "      <td>NW</td>\n",
       "      <td>1.1</td>\n",
       "      <td>Wanshouxigong</td>\n",
       "    </tr>\n",
       "    <tr>\n",
       "      <th>420766</th>\n",
       "      <td>35063</td>\n",
       "      <td>2017</td>\n",
       "      <td>2</td>\n",
       "      <td>28</td>\n",
       "      <td>22</td>\n",
       "      <td>12.0</td>\n",
       "      <td>23.0</td>\n",
       "      <td>4.0</td>\n",
       "      <td>30.0</td>\n",
       "      <td>400.0</td>\n",
       "      <td>59.0</td>\n",
       "      <td>10.5</td>\n",
       "      <td>1014.4</td>\n",
       "      <td>-12.9</td>\n",
       "      <td>0.0</td>\n",
       "      <td>NNW</td>\n",
       "      <td>1.2</td>\n",
       "      <td>Wanshouxigong</td>\n",
       "    </tr>\n",
       "    <tr>\n",
       "      <th>420767</th>\n",
       "      <td>35064</td>\n",
       "      <td>2017</td>\n",
       "      <td>2</td>\n",
       "      <td>28</td>\n",
       "      <td>23</td>\n",
       "      <td>13.0</td>\n",
       "      <td>19.0</td>\n",
       "      <td>4.0</td>\n",
       "      <td>38.0</td>\n",
       "      <td>600.0</td>\n",
       "      <td>49.0</td>\n",
       "      <td>8.6</td>\n",
       "      <td>1014.1</td>\n",
       "      <td>-15.9</td>\n",
       "      <td>0.0</td>\n",
       "      <td>NNE</td>\n",
       "      <td>1.3</td>\n",
       "      <td>Wanshouxigong</td>\n",
       "    </tr>\n",
       "  </tbody>\n",
       "</table>\n",
       "</div>"
      ],
      "text/plain": [
       "           No  year  month  day  hour  PM2.5  PM10  SO2   NO2     CO    O3  \\\n",
       "420763  35060  2017      2   28    19   11.0  32.0  3.0  24.0  400.0  72.0   \n",
       "420764  35061  2017      2   28    20   13.0  32.0  3.0  41.0  500.0  50.0   \n",
       "420765  35062  2017      2   28    21   14.0  28.0  4.0  38.0  500.0  54.0   \n",
       "420766  35063  2017      2   28    22   12.0  23.0  4.0  30.0  400.0  59.0   \n",
       "420767  35064  2017      2   28    23   13.0  19.0  4.0  38.0  600.0  49.0   \n",
       "\n",
       "        TEMP    PRES  DEWP  RAIN   wd  WSPM        station  \n",
       "420763  12.5  1013.5 -16.2   0.0   NW   2.4  Wanshouxigong  \n",
       "420764  11.6  1013.6 -15.1   0.0  WNW   0.9  Wanshouxigong  \n",
       "420765  10.8  1014.2 -13.3   0.0   NW   1.1  Wanshouxigong  \n",
       "420766  10.5  1014.4 -12.9   0.0  NNW   1.2  Wanshouxigong  \n",
       "420767   8.6  1014.1 -15.9   0.0  NNE   1.3  Wanshouxigong  "
      ]
     },
     "execution_count": 33,
     "metadata": {},
     "output_type": "execute_result"
    }
   ],
   "source": [
    "#Menampilkan 5 data terbawah\n",
    "df.tail()"
   ]
  },
  {
   "cell_type": "code",
   "execution_count": 34,
   "metadata": {},
   "outputs": [
    {
     "data": {
      "text/plain": [
       "420768"
      ]
     },
     "execution_count": 34,
     "metadata": {},
     "output_type": "execute_result"
    }
   ],
   "source": [
    "#Memeriksa jumlah baris data\n",
    "len(df)"
   ]
  },
  {
   "cell_type": "markdown",
   "metadata": {},
   "source": [
    "Dapat dilihat jumlah index dari 5 data terbawah sama dengan len(df) maka dapat dipastikan bahwa seluruh dataset sudah berhasil digabungkan"
   ]
  },
  {
   "cell_type": "markdown",
   "metadata": {
    "id": "FHSiqaZp8DC1"
   },
   "source": [
    "### Assessing Data"
   ]
  },
  {
   "cell_type": "code",
   "execution_count": 35,
   "metadata": {
    "id": "ax-3tEjc9Cj1"
   },
   "outputs": [
    {
     "name": "stdout",
     "output_type": "stream",
     "text": [
      "<class 'pandas.core.frame.DataFrame'>\n",
      "RangeIndex: 420768 entries, 0 to 420767\n",
      "Data columns (total 18 columns):\n",
      " #   Column   Non-Null Count   Dtype  \n",
      "---  ------   --------------   -----  \n",
      " 0   No       420768 non-null  int64  \n",
      " 1   year     420768 non-null  int64  \n",
      " 2   month    420768 non-null  int64  \n",
      " 3   day      420768 non-null  int64  \n",
      " 4   hour     420768 non-null  int64  \n",
      " 5   PM2.5    412029 non-null  float64\n",
      " 6   PM10     414319 non-null  float64\n",
      " 7   SO2      411747 non-null  float64\n",
      " 8   NO2      408652 non-null  float64\n",
      " 9   CO       400067 non-null  float64\n",
      " 10  O3       407491 non-null  float64\n",
      " 11  TEMP     420370 non-null  float64\n",
      " 12  PRES     420375 non-null  float64\n",
      " 13  DEWP     420365 non-null  float64\n",
      " 14  RAIN     420378 non-null  float64\n",
      " 15  wd       418946 non-null  object \n",
      " 16  WSPM     420450 non-null  float64\n",
      " 17  station  420768 non-null  object \n",
      "dtypes: float64(11), int64(5), object(2)\n",
      "memory usage: 57.8+ MB\n"
     ]
    }
   ],
   "source": [
    "#Memeriksa type data untuk tiap-tiap variabel\n",
    "df.info()"
   ]
  },
  {
   "cell_type": "code",
   "execution_count": 36,
   "metadata": {},
   "outputs": [
    {
     "data": {
      "text/plain": [
       "No             0\n",
       "year           0\n",
       "month          0\n",
       "day            0\n",
       "hour           0\n",
       "PM2.5       8739\n",
       "PM10        6449\n",
       "SO2         9021\n",
       "NO2        12116\n",
       "CO         20701\n",
       "O3         13277\n",
       "TEMP         398\n",
       "PRES         393\n",
       "DEWP         403\n",
       "RAIN         390\n",
       "wd          1822\n",
       "WSPM         318\n",
       "station        0\n",
       "dtype: int64"
      ]
     },
     "execution_count": 36,
     "metadata": {},
     "output_type": "execute_result"
    }
   ],
   "source": [
    "#Memeriksa missing values untuk tiap variabel\n",
    "df.isna().sum()"
   ]
  },
  {
   "cell_type": "markdown",
   "metadata": {},
   "source": [
    "Dari hasil diatas ternyata banyak ditemukan data yang hilang. Oleh karena itu pada tahap berikutnya dilakukan imputasi untuk nilai yang hilang menggunakan nilai mean."
   ]
  },
  {
   "cell_type": "code",
   "execution_count": 37,
   "metadata": {},
   "outputs": [
    {
     "data": {
      "text/plain": [
       "0"
      ]
     },
     "execution_count": 37,
     "metadata": {},
     "output_type": "execute_result"
    }
   ],
   "source": [
    "#Memeriksa adanya duplikasi\n",
    "df.duplicated().sum()"
   ]
  },
  {
   "cell_type": "markdown",
   "metadata": {},
   "source": [
    "Tidak ditemukan adanya duplikasi data menghapus kolom No pada dataframe"
   ]
  },
  {
   "cell_type": "markdown",
   "metadata": {
    "id": "EhN5R4hr8DC1"
   },
   "source": [
    "### Cleaning Data"
   ]
  },
  {
   "cell_type": "code",
   "execution_count": 38,
   "metadata": {},
   "outputs": [],
   "source": [
    "#Menghapus variable No.\n",
    "df.drop(labels='No', axis=1, inplace=True)"
   ]
  },
  {
   "cell_type": "code",
   "execution_count": 39,
   "metadata": {},
   "outputs": [],
   "source": [
    "#Menghapus variable wd\n",
    "df.drop(labels='wd', axis=1, inplace=True)"
   ]
  },
  {
   "cell_type": "code",
   "execution_count": 40,
   "metadata": {},
   "outputs": [
    {
     "data": {
      "text/html": [
       "<div>\n",
       "<style scoped>\n",
       "    .dataframe tbody tr th:only-of-type {\n",
       "        vertical-align: middle;\n",
       "    }\n",
       "\n",
       "    .dataframe tbody tr th {\n",
       "        vertical-align: top;\n",
       "    }\n",
       "\n",
       "    .dataframe thead th {\n",
       "        text-align: right;\n",
       "    }\n",
       "</style>\n",
       "<table border=\"1\" class=\"dataframe\">\n",
       "  <thead>\n",
       "    <tr style=\"text-align: right;\">\n",
       "      <th></th>\n",
       "      <th>year</th>\n",
       "      <th>month</th>\n",
       "      <th>day</th>\n",
       "      <th>hour</th>\n",
       "      <th>PM2.5</th>\n",
       "      <th>PM10</th>\n",
       "      <th>SO2</th>\n",
       "      <th>NO2</th>\n",
       "      <th>CO</th>\n",
       "      <th>O3</th>\n",
       "      <th>TEMP</th>\n",
       "      <th>PRES</th>\n",
       "      <th>DEWP</th>\n",
       "      <th>RAIN</th>\n",
       "      <th>WSPM</th>\n",
       "      <th>station</th>\n",
       "    </tr>\n",
       "  </thead>\n",
       "  <tbody>\n",
       "    <tr>\n",
       "      <th>0</th>\n",
       "      <td>2013</td>\n",
       "      <td>3</td>\n",
       "      <td>1</td>\n",
       "      <td>0</td>\n",
       "      <td>4.0</td>\n",
       "      <td>4.0</td>\n",
       "      <td>4.0</td>\n",
       "      <td>7.0</td>\n",
       "      <td>300.0</td>\n",
       "      <td>77.0</td>\n",
       "      <td>-0.7</td>\n",
       "      <td>1023.0</td>\n",
       "      <td>-18.8</td>\n",
       "      <td>0.0</td>\n",
       "      <td>4.4</td>\n",
       "      <td>Aotizhongxin</td>\n",
       "    </tr>\n",
       "    <tr>\n",
       "      <th>1</th>\n",
       "      <td>2013</td>\n",
       "      <td>3</td>\n",
       "      <td>1</td>\n",
       "      <td>1</td>\n",
       "      <td>8.0</td>\n",
       "      <td>8.0</td>\n",
       "      <td>4.0</td>\n",
       "      <td>7.0</td>\n",
       "      <td>300.0</td>\n",
       "      <td>77.0</td>\n",
       "      <td>-1.1</td>\n",
       "      <td>1023.2</td>\n",
       "      <td>-18.2</td>\n",
       "      <td>0.0</td>\n",
       "      <td>4.7</td>\n",
       "      <td>Aotizhongxin</td>\n",
       "    </tr>\n",
       "    <tr>\n",
       "      <th>2</th>\n",
       "      <td>2013</td>\n",
       "      <td>3</td>\n",
       "      <td>1</td>\n",
       "      <td>2</td>\n",
       "      <td>7.0</td>\n",
       "      <td>7.0</td>\n",
       "      <td>5.0</td>\n",
       "      <td>10.0</td>\n",
       "      <td>300.0</td>\n",
       "      <td>73.0</td>\n",
       "      <td>-1.1</td>\n",
       "      <td>1023.5</td>\n",
       "      <td>-18.2</td>\n",
       "      <td>0.0</td>\n",
       "      <td>5.6</td>\n",
       "      <td>Aotizhongxin</td>\n",
       "    </tr>\n",
       "    <tr>\n",
       "      <th>3</th>\n",
       "      <td>2013</td>\n",
       "      <td>3</td>\n",
       "      <td>1</td>\n",
       "      <td>3</td>\n",
       "      <td>6.0</td>\n",
       "      <td>6.0</td>\n",
       "      <td>11.0</td>\n",
       "      <td>11.0</td>\n",
       "      <td>300.0</td>\n",
       "      <td>72.0</td>\n",
       "      <td>-1.4</td>\n",
       "      <td>1024.5</td>\n",
       "      <td>-19.4</td>\n",
       "      <td>0.0</td>\n",
       "      <td>3.1</td>\n",
       "      <td>Aotizhongxin</td>\n",
       "    </tr>\n",
       "    <tr>\n",
       "      <th>4</th>\n",
       "      <td>2013</td>\n",
       "      <td>3</td>\n",
       "      <td>1</td>\n",
       "      <td>4</td>\n",
       "      <td>3.0</td>\n",
       "      <td>3.0</td>\n",
       "      <td>12.0</td>\n",
       "      <td>12.0</td>\n",
       "      <td>300.0</td>\n",
       "      <td>72.0</td>\n",
       "      <td>-2.0</td>\n",
       "      <td>1025.2</td>\n",
       "      <td>-19.5</td>\n",
       "      <td>0.0</td>\n",
       "      <td>2.0</td>\n",
       "      <td>Aotizhongxin</td>\n",
       "    </tr>\n",
       "  </tbody>\n",
       "</table>\n",
       "</div>"
      ],
      "text/plain": [
       "   year  month  day  hour  PM2.5  PM10   SO2   NO2     CO    O3  TEMP    PRES  \\\n",
       "0  2013      3    1     0    4.0   4.0   4.0   7.0  300.0  77.0  -0.7  1023.0   \n",
       "1  2013      3    1     1    8.0   8.0   4.0   7.0  300.0  77.0  -1.1  1023.2   \n",
       "2  2013      3    1     2    7.0   7.0   5.0  10.0  300.0  73.0  -1.1  1023.5   \n",
       "3  2013      3    1     3    6.0   6.0  11.0  11.0  300.0  72.0  -1.4  1024.5   \n",
       "4  2013      3    1     4    3.0   3.0  12.0  12.0  300.0  72.0  -2.0  1025.2   \n",
       "\n",
       "   DEWP  RAIN  WSPM       station  \n",
       "0 -18.8   0.0   4.4  Aotizhongxin  \n",
       "1 -18.2   0.0   4.7  Aotizhongxin  \n",
       "2 -18.2   0.0   5.6  Aotizhongxin  \n",
       "3 -19.4   0.0   3.1  Aotizhongxin  \n",
       "4 -19.5   0.0   2.0  Aotizhongxin  "
      ]
     },
     "execution_count": 40,
     "metadata": {},
     "output_type": "execute_result"
    }
   ],
   "source": [
    "df.head()"
   ]
  },
  {
   "cell_type": "code",
   "execution_count": 41,
   "metadata": {},
   "outputs": [],
   "source": [
    "# mengganti kolom 'year','month','day' kedalam bentuk datetime\n",
    "datetime = pd.to_datetime(df[['year', 'month', 'day', 'hour']])\n",
    "df.insert(loc=1, column='time', value=datetime)"
   ]
  },
  {
   "cell_type": "code",
   "execution_count": 42,
   "metadata": {},
   "outputs": [
    {
     "data": {
      "text/html": [
       "<div>\n",
       "<style scoped>\n",
       "    .dataframe tbody tr th:only-of-type {\n",
       "        vertical-align: middle;\n",
       "    }\n",
       "\n",
       "    .dataframe tbody tr th {\n",
       "        vertical-align: top;\n",
       "    }\n",
       "\n",
       "    .dataframe thead th {\n",
       "        text-align: right;\n",
       "    }\n",
       "</style>\n",
       "<table border=\"1\" class=\"dataframe\">\n",
       "  <thead>\n",
       "    <tr style=\"text-align: right;\">\n",
       "      <th></th>\n",
       "      <th>year</th>\n",
       "      <th>time</th>\n",
       "      <th>month</th>\n",
       "      <th>day</th>\n",
       "      <th>hour</th>\n",
       "      <th>PM2.5</th>\n",
       "      <th>PM10</th>\n",
       "      <th>SO2</th>\n",
       "      <th>NO2</th>\n",
       "      <th>CO</th>\n",
       "      <th>O3</th>\n",
       "      <th>TEMP</th>\n",
       "      <th>PRES</th>\n",
       "      <th>DEWP</th>\n",
       "      <th>RAIN</th>\n",
       "      <th>WSPM</th>\n",
       "      <th>station</th>\n",
       "    </tr>\n",
       "  </thead>\n",
       "  <tbody>\n",
       "    <tr>\n",
       "      <th>0</th>\n",
       "      <td>2013</td>\n",
       "      <td>2013-03-01 00:00:00</td>\n",
       "      <td>3</td>\n",
       "      <td>1</td>\n",
       "      <td>0</td>\n",
       "      <td>4.0</td>\n",
       "      <td>4.0</td>\n",
       "      <td>4.0</td>\n",
       "      <td>7.0</td>\n",
       "      <td>300.0</td>\n",
       "      <td>77.0</td>\n",
       "      <td>-0.7</td>\n",
       "      <td>1023.0</td>\n",
       "      <td>-18.8</td>\n",
       "      <td>0.0</td>\n",
       "      <td>4.4</td>\n",
       "      <td>Aotizhongxin</td>\n",
       "    </tr>\n",
       "    <tr>\n",
       "      <th>1</th>\n",
       "      <td>2013</td>\n",
       "      <td>2013-03-01 01:00:00</td>\n",
       "      <td>3</td>\n",
       "      <td>1</td>\n",
       "      <td>1</td>\n",
       "      <td>8.0</td>\n",
       "      <td>8.0</td>\n",
       "      <td>4.0</td>\n",
       "      <td>7.0</td>\n",
       "      <td>300.0</td>\n",
       "      <td>77.0</td>\n",
       "      <td>-1.1</td>\n",
       "      <td>1023.2</td>\n",
       "      <td>-18.2</td>\n",
       "      <td>0.0</td>\n",
       "      <td>4.7</td>\n",
       "      <td>Aotizhongxin</td>\n",
       "    </tr>\n",
       "    <tr>\n",
       "      <th>2</th>\n",
       "      <td>2013</td>\n",
       "      <td>2013-03-01 02:00:00</td>\n",
       "      <td>3</td>\n",
       "      <td>1</td>\n",
       "      <td>2</td>\n",
       "      <td>7.0</td>\n",
       "      <td>7.0</td>\n",
       "      <td>5.0</td>\n",
       "      <td>10.0</td>\n",
       "      <td>300.0</td>\n",
       "      <td>73.0</td>\n",
       "      <td>-1.1</td>\n",
       "      <td>1023.5</td>\n",
       "      <td>-18.2</td>\n",
       "      <td>0.0</td>\n",
       "      <td>5.6</td>\n",
       "      <td>Aotizhongxin</td>\n",
       "    </tr>\n",
       "    <tr>\n",
       "      <th>3</th>\n",
       "      <td>2013</td>\n",
       "      <td>2013-03-01 03:00:00</td>\n",
       "      <td>3</td>\n",
       "      <td>1</td>\n",
       "      <td>3</td>\n",
       "      <td>6.0</td>\n",
       "      <td>6.0</td>\n",
       "      <td>11.0</td>\n",
       "      <td>11.0</td>\n",
       "      <td>300.0</td>\n",
       "      <td>72.0</td>\n",
       "      <td>-1.4</td>\n",
       "      <td>1024.5</td>\n",
       "      <td>-19.4</td>\n",
       "      <td>0.0</td>\n",
       "      <td>3.1</td>\n",
       "      <td>Aotizhongxin</td>\n",
       "    </tr>\n",
       "    <tr>\n",
       "      <th>4</th>\n",
       "      <td>2013</td>\n",
       "      <td>2013-03-01 04:00:00</td>\n",
       "      <td>3</td>\n",
       "      <td>1</td>\n",
       "      <td>4</td>\n",
       "      <td>3.0</td>\n",
       "      <td>3.0</td>\n",
       "      <td>12.0</td>\n",
       "      <td>12.0</td>\n",
       "      <td>300.0</td>\n",
       "      <td>72.0</td>\n",
       "      <td>-2.0</td>\n",
       "      <td>1025.2</td>\n",
       "      <td>-19.5</td>\n",
       "      <td>0.0</td>\n",
       "      <td>2.0</td>\n",
       "      <td>Aotizhongxin</td>\n",
       "    </tr>\n",
       "  </tbody>\n",
       "</table>\n",
       "</div>"
      ],
      "text/plain": [
       "   year                time  month  day  hour  PM2.5  PM10   SO2   NO2     CO  \\\n",
       "0  2013 2013-03-01 00:00:00      3    1     0    4.0   4.0   4.0   7.0  300.0   \n",
       "1  2013 2013-03-01 01:00:00      3    1     1    8.0   8.0   4.0   7.0  300.0   \n",
       "2  2013 2013-03-01 02:00:00      3    1     2    7.0   7.0   5.0  10.0  300.0   \n",
       "3  2013 2013-03-01 03:00:00      3    1     3    6.0   6.0  11.0  11.0  300.0   \n",
       "4  2013 2013-03-01 04:00:00      3    1     4    3.0   3.0  12.0  12.0  300.0   \n",
       "\n",
       "     O3  TEMP    PRES  DEWP  RAIN  WSPM       station  \n",
       "0  77.0  -0.7  1023.0 -18.8   0.0   4.4  Aotizhongxin  \n",
       "1  77.0  -1.1  1023.2 -18.2   0.0   4.7  Aotizhongxin  \n",
       "2  73.0  -1.1  1023.5 -18.2   0.0   5.6  Aotizhongxin  \n",
       "3  72.0  -1.4  1024.5 -19.4   0.0   3.1  Aotizhongxin  \n",
       "4  72.0  -2.0  1025.2 -19.5   0.0   2.0  Aotizhongxin  "
      ]
     },
     "execution_count": 42,
     "metadata": {},
     "output_type": "execute_result"
    }
   ],
   "source": [
    "df.head()"
   ]
  },
  {
   "cell_type": "code",
   "execution_count": 43,
   "metadata": {},
   "outputs": [],
   "source": [
    "#Menghapus nilai yang kosong\n",
    "df.dropna(inplace=True)"
   ]
  },
  {
   "cell_type": "code",
   "execution_count": 44,
   "metadata": {},
   "outputs": [
    {
     "data": {
      "text/plain": [
       "year       0\n",
       "time       0\n",
       "month      0\n",
       "day        0\n",
       "hour       0\n",
       "PM2.5      0\n",
       "PM10       0\n",
       "SO2        0\n",
       "NO2        0\n",
       "CO         0\n",
       "O3         0\n",
       "TEMP       0\n",
       "PRES       0\n",
       "DEWP       0\n",
       "RAIN       0\n",
       "WSPM       0\n",
       "station    0\n",
       "dtype: int64"
      ]
     },
     "execution_count": 44,
     "metadata": {},
     "output_type": "execute_result"
    }
   ],
   "source": [
    "df.isna().sum()"
   ]
  },
  {
   "cell_type": "code",
   "execution_count": 45,
   "metadata": {},
   "outputs": [],
   "source": [
    "df = df.rename(columns={'PM2.5': 'PM25'})"
   ]
  },
  {
   "cell_type": "markdown",
   "metadata": {
    "id": "gp-Y6wU38DC1"
   },
   "source": [
    "## Exploratory Data Analysis (EDA)"
   ]
  },
  {
   "cell_type": "markdown",
   "metadata": {
    "id": "MW7WF2kr8DC1"
   },
   "source": [
    "### Explore ..."
   ]
  },
  {
   "cell_type": "code",
   "execution_count": 46,
   "metadata": {
    "id": "e9CQCZjk8DC2"
   },
   "outputs": [
    {
     "data": {
      "text/html": [
       "<div>\n",
       "<style scoped>\n",
       "    .dataframe tbody tr th:only-of-type {\n",
       "        vertical-align: middle;\n",
       "    }\n",
       "\n",
       "    .dataframe tbody tr th {\n",
       "        vertical-align: top;\n",
       "    }\n",
       "\n",
       "    .dataframe thead th {\n",
       "        text-align: right;\n",
       "    }\n",
       "</style>\n",
       "<table border=\"1\" class=\"dataframe\">\n",
       "  <thead>\n",
       "    <tr style=\"text-align: right;\">\n",
       "      <th></th>\n",
       "      <th>year</th>\n",
       "      <th>time</th>\n",
       "      <th>month</th>\n",
       "      <th>day</th>\n",
       "      <th>hour</th>\n",
       "      <th>PM25</th>\n",
       "      <th>PM10</th>\n",
       "      <th>SO2</th>\n",
       "      <th>NO2</th>\n",
       "      <th>CO</th>\n",
       "      <th>O3</th>\n",
       "      <th>TEMP</th>\n",
       "      <th>PRES</th>\n",
       "      <th>DEWP</th>\n",
       "      <th>RAIN</th>\n",
       "      <th>WSPM</th>\n",
       "    </tr>\n",
       "  </thead>\n",
       "  <tbody>\n",
       "    <tr>\n",
       "      <th>count</th>\n",
       "      <td>383585.000000</td>\n",
       "      <td>383585</td>\n",
       "      <td>383585.000000</td>\n",
       "      <td>383585.000000</td>\n",
       "      <td>383585.000000</td>\n",
       "      <td>383585.000000</td>\n",
       "      <td>383585.000000</td>\n",
       "      <td>383585.000000</td>\n",
       "      <td>383585.000000</td>\n",
       "      <td>383585.000000</td>\n",
       "      <td>383585.000000</td>\n",
       "      <td>383585.000000</td>\n",
       "      <td>383585.000000</td>\n",
       "      <td>383585.000000</td>\n",
       "      <td>383585.000000</td>\n",
       "      <td>383585.000000</td>\n",
       "    </tr>\n",
       "    <tr>\n",
       "      <th>mean</th>\n",
       "      <td>2014.719288</td>\n",
       "      <td>2015-03-20 18:35:58.779931136</td>\n",
       "      <td>6.476617</td>\n",
       "      <td>15.715286</td>\n",
       "      <td>11.572379</td>\n",
       "      <td>79.523931</td>\n",
       "      <td>104.643039</td>\n",
       "      <td>15.622388</td>\n",
       "      <td>50.625569</td>\n",
       "      <td>1231.862104</td>\n",
       "      <td>57.241318</td>\n",
       "      <td>13.493708</td>\n",
       "      <td>1010.828913</td>\n",
       "      <td>2.414531</td>\n",
       "      <td>0.064898</td>\n",
       "      <td>1.732421</td>\n",
       "    </tr>\n",
       "    <tr>\n",
       "      <th>min</th>\n",
       "      <td>2013.000000</td>\n",
       "      <td>2013-03-01 00:00:00</td>\n",
       "      <td>1.000000</td>\n",
       "      <td>1.000000</td>\n",
       "      <td>0.000000</td>\n",
       "      <td>2.000000</td>\n",
       "      <td>2.000000</td>\n",
       "      <td>0.285600</td>\n",
       "      <td>2.000000</td>\n",
       "      <td>100.000000</td>\n",
       "      <td>0.214200</td>\n",
       "      <td>-19.900000</td>\n",
       "      <td>982.400000</td>\n",
       "      <td>-36.000000</td>\n",
       "      <td>0.000000</td>\n",
       "      <td>0.000000</td>\n",
       "    </tr>\n",
       "    <tr>\n",
       "      <th>25%</th>\n",
       "      <td>2014.000000</td>\n",
       "      <td>2014-04-06 13:00:00</td>\n",
       "      <td>3.000000</td>\n",
       "      <td>8.000000</td>\n",
       "      <td>6.000000</td>\n",
       "      <td>20.000000</td>\n",
       "      <td>36.000000</td>\n",
       "      <td>2.000000</td>\n",
       "      <td>23.000000</td>\n",
       "      <td>500.000000</td>\n",
       "      <td>10.000000</td>\n",
       "      <td>3.100000</td>\n",
       "      <td>1002.400000</td>\n",
       "      <td>-9.000000</td>\n",
       "      <td>0.000000</td>\n",
       "      <td>0.900000</td>\n",
       "    </tr>\n",
       "    <tr>\n",
       "      <th>50%</th>\n",
       "      <td>2015.000000</td>\n",
       "      <td>2015-03-27 16:00:00</td>\n",
       "      <td>6.000000</td>\n",
       "      <td>16.000000</td>\n",
       "      <td>12.000000</td>\n",
       "      <td>55.000000</td>\n",
       "      <td>82.000000</td>\n",
       "      <td>7.000000</td>\n",
       "      <td>43.000000</td>\n",
       "      <td>900.000000</td>\n",
       "      <td>45.000000</td>\n",
       "      <td>14.400000</td>\n",
       "      <td>1010.400000</td>\n",
       "      <td>2.900000</td>\n",
       "      <td>0.000000</td>\n",
       "      <td>1.400000</td>\n",
       "    </tr>\n",
       "    <tr>\n",
       "      <th>75%</th>\n",
       "      <td>2016.000000</td>\n",
       "      <td>2016-03-11 23:00:00</td>\n",
       "      <td>9.000000</td>\n",
       "      <td>23.000000</td>\n",
       "      <td>18.000000</td>\n",
       "      <td>111.000000</td>\n",
       "      <td>145.000000</td>\n",
       "      <td>19.000000</td>\n",
       "      <td>71.000000</td>\n",
       "      <td>1500.000000</td>\n",
       "      <td>82.000000</td>\n",
       "      <td>23.200000</td>\n",
       "      <td>1019.000000</td>\n",
       "      <td>15.100000</td>\n",
       "      <td>0.000000</td>\n",
       "      <td>2.200000</td>\n",
       "    </tr>\n",
       "    <tr>\n",
       "      <th>max</th>\n",
       "      <td>2017.000000</td>\n",
       "      <td>2017-02-28 23:00:00</td>\n",
       "      <td>12.000000</td>\n",
       "      <td>31.000000</td>\n",
       "      <td>23.000000</td>\n",
       "      <td>844.000000</td>\n",
       "      <td>999.000000</td>\n",
       "      <td>500.000000</td>\n",
       "      <td>290.000000</td>\n",
       "      <td>10000.000000</td>\n",
       "      <td>1071.000000</td>\n",
       "      <td>41.600000</td>\n",
       "      <td>1042.800000</td>\n",
       "      <td>29.100000</td>\n",
       "      <td>72.500000</td>\n",
       "      <td>13.200000</td>\n",
       "    </tr>\n",
       "    <tr>\n",
       "      <th>std</th>\n",
       "      <td>1.161406</td>\n",
       "      <td>NaN</td>\n",
       "      <td>3.451968</td>\n",
       "      <td>8.801871</td>\n",
       "      <td>6.939440</td>\n",
       "      <td>80.205852</td>\n",
       "      <td>91.389334</td>\n",
       "      <td>21.290076</td>\n",
       "      <td>35.081258</td>\n",
       "      <td>1158.872753</td>\n",
       "      <td>56.675282</td>\n",
       "      <td>11.426799</td>\n",
       "      <td>10.451198</td>\n",
       "      <td>13.790993</td>\n",
       "      <td>0.822480</td>\n",
       "      <td>1.242827</td>\n",
       "    </tr>\n",
       "  </tbody>\n",
       "</table>\n",
       "</div>"
      ],
      "text/plain": [
       "                year                           time          month  \\\n",
       "count  383585.000000                         383585  383585.000000   \n",
       "mean     2014.719288  2015-03-20 18:35:58.779931136       6.476617   \n",
       "min      2013.000000            2013-03-01 00:00:00       1.000000   \n",
       "25%      2014.000000            2014-04-06 13:00:00       3.000000   \n",
       "50%      2015.000000            2015-03-27 16:00:00       6.000000   \n",
       "75%      2016.000000            2016-03-11 23:00:00       9.000000   \n",
       "max      2017.000000            2017-02-28 23:00:00      12.000000   \n",
       "std         1.161406                            NaN       3.451968   \n",
       "\n",
       "                 day           hour           PM25           PM10  \\\n",
       "count  383585.000000  383585.000000  383585.000000  383585.000000   \n",
       "mean       15.715286      11.572379      79.523931     104.643039   \n",
       "min         1.000000       0.000000       2.000000       2.000000   \n",
       "25%         8.000000       6.000000      20.000000      36.000000   \n",
       "50%        16.000000      12.000000      55.000000      82.000000   \n",
       "75%        23.000000      18.000000     111.000000     145.000000   \n",
       "max        31.000000      23.000000     844.000000     999.000000   \n",
       "std         8.801871       6.939440      80.205852      91.389334   \n",
       "\n",
       "                 SO2            NO2             CO             O3  \\\n",
       "count  383585.000000  383585.000000  383585.000000  383585.000000   \n",
       "mean       15.622388      50.625569    1231.862104      57.241318   \n",
       "min         0.285600       2.000000     100.000000       0.214200   \n",
       "25%         2.000000      23.000000     500.000000      10.000000   \n",
       "50%         7.000000      43.000000     900.000000      45.000000   \n",
       "75%        19.000000      71.000000    1500.000000      82.000000   \n",
       "max       500.000000     290.000000   10000.000000    1071.000000   \n",
       "std        21.290076      35.081258    1158.872753      56.675282   \n",
       "\n",
       "                TEMP           PRES           DEWP           RAIN  \\\n",
       "count  383585.000000  383585.000000  383585.000000  383585.000000   \n",
       "mean       13.493708    1010.828913       2.414531       0.064898   \n",
       "min       -19.900000     982.400000     -36.000000       0.000000   \n",
       "25%         3.100000    1002.400000      -9.000000       0.000000   \n",
       "50%        14.400000    1010.400000       2.900000       0.000000   \n",
       "75%        23.200000    1019.000000      15.100000       0.000000   \n",
       "max        41.600000    1042.800000      29.100000      72.500000   \n",
       "std        11.426799      10.451198      13.790993       0.822480   \n",
       "\n",
       "                WSPM  \n",
       "count  383585.000000  \n",
       "mean        1.732421  \n",
       "min         0.000000  \n",
       "25%         0.900000  \n",
       "50%         1.400000  \n",
       "75%         2.200000  \n",
       "max        13.200000  \n",
       "std         1.242827  "
      ]
     },
     "execution_count": 46,
     "metadata": {},
     "output_type": "execute_result"
    }
   ],
   "source": [
    "#Melihat statistik deskriptif\n",
    "df.describe()"
   ]
  },
  {
   "cell_type": "code",
   "execution_count": 47,
   "metadata": {},
   "outputs": [
    {
     "data": {
      "text/plain": [
       "12"
      ]
     },
     "execution_count": 47,
     "metadata": {},
     "output_type": "execute_result"
    }
   ],
   "source": [
    "#Melihat banyaknya stasiun\n",
    "df['station'].nunique()"
   ]
  },
  {
   "cell_type": "code",
   "execution_count": 48,
   "metadata": {},
   "outputs": [
    {
     "data": {
      "text/plain": [
       "station\n",
       "Nongzhanguan     33176\n",
       "Tiantan          32907\n",
       "Wanshouxigong    32829\n",
       "Changping        32774\n",
       "Gucheng          32615\n",
       "Guanyuan         32328\n",
       "Huairou          31955\n",
       "Aotizhongxin     31876\n",
       "Dingling         31399\n",
       "Wanliu           30737\n",
       "Shunyi           30587\n",
       "Dongsi           30402\n",
       "Name: count, dtype: int64"
      ]
     },
     "execution_count": 48,
     "metadata": {},
     "output_type": "execute_result"
    }
   ],
   "source": [
    "#Melihat banyak data untuk tiap stasiun\n",
    "df['station'].value_counts()"
   ]
  },
  {
   "cell_type": "markdown",
   "metadata": {
    "id": "zsyZjqak8DC2"
   },
   "source": [
    "## Visualization & Explanatory Analysis"
   ]
  },
  {
   "cell_type": "markdown",
   "metadata": {
    "id": "HZxOiQ6n8DC2"
   },
   "source": [
    "### Pertanyaan 1: Pada jam berapa rata-rata nilai pm2.5 tertinggi"
   ]
  },
  {
   "cell_type": "code",
   "execution_count": 49,
   "metadata": {},
   "outputs": [],
   "source": [
    "pm25_hourly = df.groupby('hour')['PM25'].mean()"
   ]
  },
  {
   "cell_type": "code",
   "execution_count": 50,
   "metadata": {},
   "outputs": [
    {
     "data": {
      "text/plain": [
       "hour\n",
       "0     87.098788\n",
       "1     85.817982\n",
       "2     83.306339\n",
       "3     81.259181\n",
       "4     78.894473\n",
       "5     75.946626\n",
       "6     73.917752\n",
       "7     73.032900\n",
       "8     74.238014\n",
       "9     75.767114\n",
       "10    76.950183\n",
       "11    77.408243\n",
       "12    76.682395\n",
       "13    76.373777\n",
       "14    75.346470\n",
       "15    74.812805\n",
       "16    74.288303\n",
       "17    75.636056\n",
       "18    77.930102\n",
       "19    81.919436\n",
       "20    86.280369\n",
       "21    88.078582\n",
       "22    88.447249\n",
       "23    88.338368\n",
       "Name: PM25, dtype: float64"
      ]
     },
     "execution_count": 50,
     "metadata": {},
     "output_type": "execute_result"
    }
   ],
   "source": [
    "pm25_hourly"
   ]
  },
  {
   "cell_type": "code",
   "execution_count": 51,
   "metadata": {
    "scrolled": false
   },
   "outputs": [
    {
     "data": {
      "image/png": "[encoded data removed]",
      "text/plain": [
       "<Figure size 1000x600 with 1 Axes>"
      ]
     },
     "metadata": {},
     "output_type": "display_data"
    }
   ],
   "source": [
    "plt.figure(figsize=(10, 6))\n",
    "pm25_hourly.plot(kind='bar', color='skyblue')\n",
    "plt.title('Rata-rata nilai PM2.5 untuk tiap jamnya')\n",
    "plt.xlabel('Jam')\n",
    "plt.ylabel('Rata-rata nilai pm2.5')\n",
    "plt.xticks(rotation=0)\n",
    "plt.grid(axis='y')\n",
    "plt.show()"
   ]
  },
  {
   "cell_type": "markdown",
   "metadata": {},
   "source": [
    "Hasil plot pada gambar diatas menunjukkan bahwa nilai rata-rata nilai pm2.5 tertinggi ada pada pukul 22:00, 23:00, dan pukul 0:00. selanjutnya untuk waktu dengan nilai pm2.5 paling sedikit adalah pukul 7:00. Nilai PM2.5 merupakan indikator yang menandakan kebersihan udara dari partikel partikel kecil yang kemungkinan tidak dapat disaring oleh sistem pernapasan manusia sehingga memiliki dampak yang cukup berbahaya."
   ]
  },
  {
   "cell_type": "markdown",
   "metadata": {
    "id": "DgHI7CiU8DC2"
   },
   "source": [
    "### Pertanyaan 2: Stasiun mana yang memiliki rata-rata pm2.5 terendah"
   ]
  },
  {
   "cell_type": "code",
   "execution_count": 52,
   "metadata": {
    "id": "Go0lCsvO8DC2"
   },
   "outputs": [
    {
     "data": {
      "text/plain": [
       "station\n",
       "Aotizhongxin     81.883436\n",
       "Changping        70.423482\n",
       "Dingling         66.616609\n",
       "Dongsi           84.980103\n",
       "Guanyuan         83.122160\n",
       "Gucheng          83.949539\n",
       "Huairou          70.435550\n",
       "Nongzhanguan     84.746745\n",
       "Shunyi           79.960686\n",
       "Tiantan          81.767192\n",
       "Wanliu           81.990923\n",
       "Wanshouxigong    84.273432\n",
       "Name: PM25, dtype: float64"
      ]
     },
     "execution_count": 52,
     "metadata": {},
     "output_type": "execute_result"
    }
   ],
   "source": [
    "pm25_station = df.groupby('station')['PM25'].mean()\n",
    "pm25_station"
   ]
  },
  {
   "cell_type": "code",
   "execution_count": 53,
   "metadata": {},
   "outputs": [
    {
     "data": {
      "image/png": "[encoded data removed]",
      "text/plain": [
       "<Figure size 1400x600 with 1 Axes>"
      ]
     },
     "metadata": {},
     "output_type": "display_data"
    }
   ],
   "source": [
    "plt.figure(figsize=(14, 6))\n",
    "pm25_station.plot(kind='bar', color='skyblue')\n",
    "plt.title('Rata-rata nilai PM2.5 untuk tiap stasiun')\n",
    "plt.xlabel('Stasiun')\n",
    "plt.ylabel('Rata-rata nilai pm2.5')\n",
    "plt.xticks(rotation=0)\n",
    "plt.grid(axis='y')\n",
    "plt.show()"
   ]
  },
  {
   "cell_type": "markdown",
   "metadata": {},
   "source": [
    "Plot diatas menunjukkan bahwa stasiun dengan rata-rata nilai PM2.5 paling rendah adalah stasiun Dingling. Sedangkan stasiun dengan dengan rata-rata nilai pm2.5 tertinggi adalah Dongsi. Oleh karena itu dapat dikatakan kualitas udara di daerah stasiun dongsi merupakan yang terbaik diantara daerah stasiun lainya."
   ]
  },
  {
   "cell_type": "markdown",
   "metadata": {},
   "source": [
    "### Pertanyaan 3: Stasiun manakah yang paling sering mengalami hujan"
   ]
  },
  {
   "cell_type": "code",
   "execution_count": 54,
   "metadata": {},
   "outputs": [
    {
     "data": {
      "text/plain": [
       "station\n",
       "Aotizhongxin     0.068108\n",
       "Changping        0.060844\n",
       "Dingling         0.062496\n",
       "Dongsi           0.061443\n",
       "Guanyuan         0.069240\n",
       "Gucheng          0.065945\n",
       "Huairou          0.066847\n",
       "Nongzhanguan     0.066771\n",
       "Shunyi           0.054566\n",
       "Tiantan          0.065457\n",
       "Wanliu           0.074448\n",
       "Wanshouxigong    0.062347\n",
       "Name: RAIN, dtype: float64"
      ]
     },
     "execution_count": 54,
     "metadata": {},
     "output_type": "execute_result"
    }
   ],
   "source": [
    "rainy_station = df.groupby('station')['RAIN'].mean()\n",
    "rainy_station"
   ]
  },
  {
   "cell_type": "code",
   "execution_count": 55,
   "metadata": {},
   "outputs": [
    {
     "data": {
      "image/png": "[encoded data removed]",
      "text/plain": [
       "<Figure size 1400x600 with 1 Axes>"
      ]
     },
     "metadata": {},
     "output_type": "display_data"
    }
   ],
   "source": [
    "plt.figure(figsize=(14, 6))\n",
    "rainy_station.plot(kind='bar', color='skyblue')\n",
    "plt.title('Rata-rata curah hujan untuk tiap stasiun')\n",
    "plt.xlabel('Stasiun')\n",
    "plt.ylabel('Curah hujan')\n",
    "plt.xticks(rotation=0)\n",
    "plt.grid(axis='y')\n",
    "plt.show()"
   ]
  },
  {
   "cell_type": "markdown",
   "metadata": {},
   "source": [
    "Hasil visualisasi diatas menunjukkan bahwa daerah stasiun wanliu merupakan daerah yang paling sering mengalamai hujan."
   ]
  },
  {
   "cell_type": "markdown",
   "metadata": {
    "id": "_WeHlCeX8DC2"
   },
   "source": [
    "## Conclusion"
   ]
  },
  {
   "cell_type": "markdown",
   "metadata": {
    "id": "ZTcyR48Y8DC2"
   },
   "source": [
    "- Conclution pertanyaan 1: Kesimpulan yang dapat diambil dari pertanyaan pertama adalah waktu dengan nilai pm2.5 yang paling tinggi adalah saat malam menjelang dini hari yaitu tepatnya pada pukul 22:00, 23:00, dan 0:00. Pada waktu ini didapatkan nilai pm2.5 yang lebih tinggi dibandingkan waktu lainya sehingga penggunaan masker disarankan untuk menjaga kesehatan mengingat indikator pm2.5 merupakan indikator konsentrasi partikel kecil yang tidak dapat disaring oleh sistem pernapasan manusia sehingga mempengaruhi dampak yang serius terhadapa kesehatan.\n",
    "- Conclution pertanyaan 2: Kesimpulan dari pertanyaan kedua adalah stasiun dengan rata-rata pm2.5 terendah berada di Dingling. Oleh sebab itu dapat diambil kesimpulan bahwa stasiun ini merupakan stasiun dengan kualitas udara yang paling bersih dibandingkan dengan stasiun lainya, sementara stasiun Dongsi memiliki kualitas udara yang paling buruk diantara stasiun lainya.\n",
    "- Conclution pertanyaan 3: Kesimpulan dari pertanyaan ketiga adalah daerah stasiun wanliu merupakan daerah dengan rata-rata curah hujan tertinggi. Hal ini menandakan daerah ini yang paling sering mengalami hujan dibandingkan dengan daerah-daerah stasiun lainya."
   ]
  },
  {
   "cell_type": "code",
   "execution_count": 56,
   "metadata": {},
   "outputs": [],
   "source": [
    "df.to_csv(\"all_data.csv\", index=False)"
   ]
  },
  {
   "cell_type": "code",
   "execution_count": 28,
   "metadata": {},
   "outputs": [],
   "source": [
    "#!pip freeze > requirements.txt"
   ]
  },
  {
   "cell_type": "code",
   "execution_count": null,
   "metadata": {},
   "outputs": [],
   "source": []
  }
 ],
 "metadata": {
  "colab": {
   "provenance": []
  },
  "kernelspec": {
   "display_name": "Python 3 (ipykernel)",
   "language": "python",
   "name": "python3"
  },
  "language_info": {
   "codemirror_mode": {
    "name": "ipython",
    "version": 3
   },
   "file_extension": ".py",
   "mimetype": "text/x-python",
   "name": "python",
   "nbconvert_exporter": "python",
   "pygments_lexer": "ipython3",
   "version": "3.10.13"
  },
  "vscode": {
   "interpreter": {
    "hash": "972b3bf27e332e87b5379f2791f6ef9dfc79c71018c370b0d7423235e20fe4d7"
   }
  }
 },
 "nbformat": 4,
 "nbformat_minor": 1
}
